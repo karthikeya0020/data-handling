{
  "nbformat": 4,
  "nbformat_minor": 0,
  "metadata": {
    "colab": {
      "provenance": []
    },
    "kernelspec": {
      "name": "python3",
      "display_name": "Python 3"
    },
    "language_info": {
      "name": "python"
    }
  },
  "cells": [
    {
      "cell_type": "code",
      "execution_count": 2,
      "metadata": {
        "colab": {
          "base_uri": "https://localhost:8080/"
        },
        "id": "13mekdWLxzNK",
        "outputId": "de82e0c4-1979-41da-cc3c-7bad94045201"
      },
      "outputs": [
        {
          "output_type": "stream",
          "name": "stdout",
          "text": [
            "1D NumPy Array\n",
            "Shape: (5,)\n",
            "Size: 5\n",
            "Dimension: 1\n",
            "Length: 5\n"
          ]
        }
      ],
      "source": [
        "import numpy as np\n",
        "arr_1d = np.array([1, 2, 3, 4, 5])\n",
        "print(\"1D NumPy Array\")\n",
        "print(\"Shape:\", arr_1d.shape)\n",
        "print(\"Size:\", arr_1d.size)\n",
        "print(\"Dimension:\", arr_1d.ndim)\n",
        "print(\"Length:\", len(arr_1d))"
      ]
    },
    {
      "cell_type": "code",
      "source": [
        "arr_2d = np.array([[1, 2, 3], [4, 5, 6], [7, 8, 9]])\n",
        "print(\"\\n2D NumPy Array\")\n",
        "print(\"Shape:\", arr_2d.shape)\n",
        "print(\"Size:\", arr_2d.size)\n",
        "print(\"Dimension:\", arr_2d.ndim)\n",
        "print(\"Length:\", len(arr_2d))\n"
      ],
      "metadata": {
        "colab": {
          "base_uri": "https://localhost:8080/"
        },
        "id": "f6g1lcNU0BMF",
        "outputId": "8423202e-3af3-4703-c455-c6968dd4925a"
      },
      "execution_count": 3,
      "outputs": [
        {
          "output_type": "stream",
          "name": "stdout",
          "text": [
            "\n",
            "2D NumPy Array\n",
            "Shape: (3, 3)\n",
            "Size: 9\n",
            "Dimension: 2\n",
            "Length: 3\n"
          ]
        }
      ]
    },
    {
      "cell_type": "code",
      "source": [
        "arr_3d = np.array([[[1, 2, 3], [4, 5, 6]], [[7, 8, 9], [10, 11, 12]]])\n",
        "print(\"\\n3D NumPy Array\")\n",
        "print(\"Shape:\", arr_3d.shape)\n",
        "print(\"Size:\", arr_3d.size)\n",
        "print(\"Dimension:\", arr_3d.ndim)\n",
        "print(\"Length:\", len(arr_3d))"
      ],
      "metadata": {
        "colab": {
          "base_uri": "https://localhost:8080/"
        },
        "id": "GQKWoDXe0T4b",
        "outputId": "82d2c6c3-d0db-44f2-8e5e-721a72143661"
      },
      "execution_count": 4,
      "outputs": [
        {
          "output_type": "stream",
          "name": "stdout",
          "text": [
            "\n",
            "3D NumPy Array\n",
            "Shape: (2, 2, 3)\n",
            "Size: 12\n",
            "Dimension: 3\n",
            "Length: 2\n"
          ]
        }
      ]
    },
    {
      "cell_type": "code",
      "source": [
        "import numpy as np\n",
        "arr = np.arange(10)"
      ],
      "metadata": {
        "id": "ak6l1Wn10Y18"
      },
      "execution_count": 5,
      "outputs": []
    },
    {
      "cell_type": "code",
      "source": [
        "arr = np.random.randint(10, 50, size=(2, 3))"
      ],
      "metadata": {
        "id": "D0rr3zQj0dwg"
      },
      "execution_count": 6,
      "outputs": []
    },
    {
      "cell_type": "code",
      "source": [
        "arr = np.random.rand(2, 3)"
      ],
      "metadata": {
        "id": "tbUuTwLA0uBE"
      },
      "execution_count": 7,
      "outputs": []
    },
    {
      "cell_type": "code",
      "source": [
        "arr = np.linspace(0, 10, 100)"
      ],
      "metadata": {
        "id": "2Q14vo4z0w37"
      },
      "execution_count": 8,
      "outputs": []
    },
    {
      "cell_type": "code",
      "source": [
        "arr = np.ones((2, 3), dtype=int)"
      ],
      "metadata": {
        "id": "HEigXmK800Qc"
      },
      "execution_count": 9,
      "outputs": []
    },
    {
      "cell_type": "code",
      "source": [
        "arr = np.ones((2, 3), dtype=int)"
      ],
      "metadata": {
        "id": "lilUK-bq03X8"
      },
      "execution_count": 10,
      "outputs": []
    },
    {
      "cell_type": "code",
      "source": [
        "arr = np.zeros((2, 3), dtype=int)"
      ],
      "metadata": {
        "id": "PgpRav2s088c"
      },
      "execution_count": 11,
      "outputs": []
    },
    {
      "cell_type": "code",
      "source": [
        "arr = np.array([[1, 2, 3],\n",
        "                [4, 5, 6],\n",
        "                [7, 8, 9]])\n",
        "print(np.diag(arr))"
      ],
      "metadata": {
        "colab": {
          "base_uri": "https://localhost:8080/"
        },
        "id": "ZSGwATnH0_rr",
        "outputId": "cd5ab1d3-b005-4d21-c98f-785e26d4d398"
      },
      "execution_count": 12,
      "outputs": [
        {
          "output_type": "stream",
          "name": "stdout",
          "text": [
            "[1 5 9]\n"
          ]
        }
      ]
    },
    {
      "cell_type": "code",
      "source": [
        "arr = np.array([1, 2, 3, 4, 5])\n",
        "print(np.sum(arr))"
      ],
      "metadata": {
        "colab": {
          "base_uri": "https://localhost:8080/"
        },
        "id": "p-gjWwQT1Dkb",
        "outputId": "d690495f-2017-4cae-e8f8-cb927f94ec7d"
      },
      "execution_count": 13,
      "outputs": [
        {
          "output_type": "stream",
          "name": "stdout",
          "text": [
            "15\n"
          ]
        }
      ]
    },
    {
      "cell_type": "code",
      "source": [
        "arr = np.array([1, 2, 3, 4, 5])\n",
        "print(np.min(arr))"
      ],
      "metadata": {
        "colab": {
          "base_uri": "https://localhost:8080/"
        },
        "id": "4S6a1e6I1Jfr",
        "outputId": "73580b58-d70f-4a98-b82a-138a6bce2967"
      },
      "execution_count": 14,
      "outputs": [
        {
          "output_type": "stream",
          "name": "stdout",
          "text": [
            "1\n"
          ]
        }
      ]
    },
    {
      "cell_type": "code",
      "source": [
        "arr = np.array([1, 2, 3, 4, 5])\n",
        "print(np.max(arr))"
      ],
      "metadata": {
        "colab": {
          "base_uri": "https://localhost:8080/"
        },
        "id": "EVpK2RpO1MJL",
        "outputId": "8a6b755c-ade0-4ef6-a746-eee417a41e6e"
      },
      "execution_count": 15,
      "outputs": [
        {
          "output_type": "stream",
          "name": "stdout",
          "text": [
            "5\n"
          ]
        }
      ]
    },
    {
      "cell_type": "code",
      "source": [
        "arr = np.array([1,2,3,4,5,6,7,8,9,10])\n",
        "print(np.mean(arr))"
      ],
      "metadata": {
        "colab": {
          "base_uri": "https://localhost:8080/"
        },
        "id": "EoJn0Rea1TGc",
        "outputId": "1559710a-5456-4df3-9dca-17ae2040f0d0"
      },
      "execution_count": 16,
      "outputs": [
        {
          "output_type": "stream",
          "name": "stdout",
          "text": [
            "5.5\n"
          ]
        }
      ]
    },
    {
      "cell_type": "code",
      "source": [
        "import numpy as np\n",
        "student_marks = np.random.randint(0, 100, 10)\n",
        "fail_criteria = 30\n",
        "no_of_students_passed = np.sum(student_marks >= fail_criteria)\n",
        "failed_marks = student_marks[student_marks < fail_criteria]\n",
        "print(\"Student marks:\")\n",
        "print(student_marks)\n",
        "print(\"Number of students passed: \", no_of_students_passed)\n",
        "print(\"Failed marks:\")\n",
        "print(failed_marks)\n"
      ],
      "metadata": {
        "colab": {
          "base_uri": "https://localhost:8080/"
        },
        "id": "zYk7HfAV1V_T",
        "outputId": "7fe08ac7-426f-4aa4-9a6e-7cd0e771c145"
      },
      "execution_count": 17,
      "outputs": [
        {
          "output_type": "stream",
          "name": "stdout",
          "text": [
            "Student marks:\n",
            "[40 86 13 60 74 22 24 45 80  4]\n",
            "Number of students passed:  6\n",
            "Failed marks:\n",
            "[13 22 24  4]\n"
          ]
        }
      ]
    },
    {
      "cell_type": "code",
      "source": [
        "\n",
        "import numpy as np\n",
        "arr = np.random.randint(1, 51, size=(5, 5))\n",
        "print(arr)\n"
      ],
      "metadata": {
        "colab": {
          "base_uri": "https://localhost:8080/"
        },
        "id": "aZ9VQvt81ZB7",
        "outputId": "d68a69a5-1a4e-4fca-a923-3aa478a64201"
      },
      "execution_count": 18,
      "outputs": [
        {
          "output_type": "stream",
          "name": "stdout",
          "text": [
            "[[ 2 20 33 50 40]\n",
            " [18 36 24 31 28]\n",
            " [13 18 48 35 44]\n",
            " [14 50 15 39 35]\n",
            " [11 50  2 49 38]]\n"
          ]
        }
      ]
    },
    {
      "cell_type": "code",
      "source": [
        "import numpy as np\n",
        "odd_array = np.arange(-30, 10, 2)\n",
        "print(odd_array)\n",
        "Indices_list = np.where(np.mod(odd_array, 2) != 0)[0]\n",
        "print(\"Indices list Odd elements is : \", Indices_list)"
      ],
      "metadata": {
        "colab": {
          "base_uri": "https://localhost:8080/"
        },
        "id": "vASDEbjr1bpj",
        "outputId": "2b1452c8-d95c-4183-bf56-f22cec89b68b"
      },
      "execution_count": 19,
      "outputs": [
        {
          "output_type": "stream",
          "name": "stdout",
          "text": [
            "[-30 -28 -26 -24 -22 -20 -18 -16 -14 -12 -10  -8  -6  -4  -2   0   2   4\n",
            "   6   8]\n",
            "Indices list Odd elements is :  []\n"
          ]
        }
      ]
    },
    {
      "cell_type": "code",
      "source": [],
      "metadata": {
        "id": "Fq-z3XKG1fGz"
      },
      "execution_count": null,
      "outputs": []
    }
  ]
}